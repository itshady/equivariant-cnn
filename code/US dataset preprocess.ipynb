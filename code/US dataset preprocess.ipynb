{
 "cells": [
  {
   "cell_type": "markdown",
   "metadata": {},
   "source": [
    "# Ultrasound Microrobot Preprocessing and Dataset\n",
    "\n",
    "This notebook demonstrates a modular approach to:\n",
    "\n",
    "1. **Preprocess the Ultrasound Data**: Convert ultrasound images (1920×1080) and corresponding bounding-box label files into a single `.amat` file per microrobot type.\n",
    "2. **Create a PyTorch Dataset**: Define a dataset class (`USMicroMagDataset`) that loads the `.amat` file, reshapes the image data, and makes it available to your model.\n",
    "\n",
    "The folder structure is assumed to be as follows:\n",
    "\n",
    "```\n",
    "microrobot_folder/\n",
    "├── sample.yaml\n",
    "├── images/\n",
    "│   ├── train/   (contains many .png images)\n",
    "│   ├── val/     (contains many .png images)\n",
    "│   └── test/    (contains many .png images)\n",
    "└── labels/\n",
    "    ├── train/   (each image has a corresponding .txt file with bounding box info)\n",
    "    ├── val/\n",
    "    └── test/\n",
    "```\n",
    "\n",
    "The `sample.yaml` might look like:\n",
    "\n",
    "```yaml\n",
    "path: ../dataset/cylinder\n",
    "train:\n",
    "  - images/train\n",
    "val:\n",
    "  - images/val\n",
    "test:\n",
    "  - images/test\n",
    "nc: 1 \n",
    "names: [\"cylinder\"]\n",
    "```"
   ]
  },
  {
   "cell_type": "markdown",
   "metadata": {
    "collapsed": true
   },
   "source": [
    "# E(n)-Equivariant Steerable CNNs  -  A concrete example\n"
   ]
  },
  {
   "cell_type": "code",
   "execution_count": 1,
   "metadata": {
    "pycharm": {
     "is_executing": false
    }
   },
   "outputs": [
    {
     "name": "stdout",
     "output_type": "stream",
     "text": [
      "Modules imported successfully.\n"
     ]
    }
   ],
   "source": [
    "import os\n",
    "import yaml\n",
    "import numpy as np\n",
    "from PIL import Image\n",
    "\n",
    "print('Modules imported successfully.')"
   ]
  },
  {
   "cell_type": "markdown",
   "metadata": {},
   "source": [
    "## Part 1. Preprocess Ultrasound Data\n",
    "\n",
    "This function reads ultrasound images and corresponding label files, then writes a space-delimited `.amat` file. Each row in the `.amat` file contains the flattened pixel values (from a 1920×1080 grayscale image) followed by the label values (for example, 5 numbers representing a bounding box)."
   ]
  },
  {
   "cell_type": "code",
   "execution_count": 2,
   "metadata": {},
   "outputs": [
    {
     "name": "stdout",
     "output_type": "stream",
     "text": [
      "Current working directory: /Users/hibrahim/Documents/Class/Machine Learning/research_coding/code\n",
      "Saved USMicroMagSet_processed/ultrasound_flagella_train.amat with shape (1956, 2073605)\n",
      "Saved USMicroMagSet_processed/ultrasound_flagella_test.amat with shape (1054, 2073605)\n"
     ]
    }
   ],
   "source": [
    "def preprocess_ultrasound_data(microrobot_folder, max_images=None):\n",
    "    \"\"\"\n",
    "    Preprocess ultrasound images and labels for a given microrobot type.\n",
    "\n",
    "    Args:\n",
    "        microrobot_folder (str): Path to the folder containing sample.yaml, images/, and labels/\n",
    "        max_images (int or None): Maximum number of images to include per split (train/test).\n",
    "                                  If None, includes all available images.\n",
    "    \n",
    "    Expects the following folder structure inside `microrobot_folder`:\n",
    "    \n",
    "        sample.yaml\n",
    "        images/\n",
    "            train/   -- training images (.png)\n",
    "            test/    -- testing images (.png)\n",
    "            val/     -- validation images (.png)\n",
    "        labels/\n",
    "            train/   -- training label files (.txt)\n",
    "            test/    -- testing label files (.txt)\n",
    "            val/     -- validation label files (.txt)\n",
    "    \n",
    "    The sample.yaml file is assumed to contain, for example:\n",
    "    \n",
    "        path: ../dataset/cylinder\n",
    "        train:\n",
    "          - images/train\n",
    "        val:\n",
    "          - images/val\n",
    "        test:\n",
    "          - images/test\n",
    "        nc: 1 \n",
    "        names: [\"cylinder\"]\n",
    "    \n",
    "    For training, we combine images from both \"train\" and \"val\" splits.\n",
    "    Each output .amat file will have one row per image:\n",
    "       [ flattened_pixels (1920x1080)  label_values ]\n",
    "    \"\"\"\n",
    "    # Path to the sample.yaml file\n",
    "    print(\"Current working directory:\", os.getcwd())\n",
    "\n",
    "    sample_yaml_path = os.path.join(microrobot_folder, \"sample.yaml\")\n",
    "    with open(sample_yaml_path, \"r\") as f:\n",
    "        config = yaml.safe_load(f)\n",
    "    \n",
    "    # Define splits: combine \"train\" and \"val\" for training; test remains separate\n",
    "    splits = {\"train\": [], \"test\": []}\n",
    "    \n",
    "    # Combine train and validation splits\n",
    "    for key in [\"train\", \"val\"]:\n",
    "        if key in config and config[key]:\n",
    "            for rel_dir in config[key]:\n",
    "                splits[\"train\"].append(os.path.join(microrobot_folder, rel_dir))\n",
    "    \n",
    "    # Test split\n",
    "    if \"test\" in config and config[\"test\"]:\n",
    "        for rel_dir in config[\"test\"]:\n",
    "            splits[\"test\"].append(os.path.join(microrobot_folder, rel_dir))\n",
    "\n",
    "    # Process each split\n",
    "    for mode, img_dirs in splits.items():\n",
    "        data_rows = []\n",
    "        count = 0  # Track how many images have been added\n",
    "        for img_dir in img_dirs:\n",
    "            # Determine corresponding labels directory by replacing \"images\" with \"labels\"\n",
    "            label_dir = img_dir.replace(\"images\", \"labels\")\n",
    "            # List all PNG files in this directory\n",
    "            image_files = sorted([f for f in os.listdir(img_dir) if f.lower().endswith(\".png\")])\n",
    "            for img_file in image_files:\n",
    "                if max_images is not None and count >= max_images:\n",
    "                    break  # Stop if limit reached\n",
    "                # Full path to the image\n",
    "                img_path = os.path.join(img_dir, img_file)\n",
    "                # Open image, convert to grayscale ('F')\n",
    "                image = Image.open(img_path).convert('F')\n",
    "                # Convert to numpy array and flatten (original size: 1920x1080)\n",
    "                img_array = np.array(image, dtype=np.float32).flatten()\n",
    "                \n",
    "                # Find the corresponding label file\n",
    "                label_filename = os.path.splitext(img_file)[0] + \".txt\"\n",
    "                label_path = os.path.join(label_dir, label_filename)\n",
    "                with open(label_path, \"r\") as lf:\n",
    "                    # For example: \"0 0.569076 0.381246 0.115152 0.130603\"\n",
    "                    label_line = lf.readline().strip()\n",
    "                    label_values = [float(x) for x in label_line.split()[1:]]\n",
    "                \n",
    "                # Concatenate flattened image and label values\n",
    "                row = np.concatenate([img_array, np.array(label_values, dtype=np.float32)])\n",
    "                data_rows.append(row)\n",
    "                count += 1\n",
    "            \n",
    "            if max_images is not None and count >= max_images:\n",
    "                break  # Don't process more folders if limit is reached\n",
    "        \n",
    "        # If any data is found, stack and save as .amat\n",
    "        if data_rows:\n",
    "            data_matrix = np.vstack(data_rows)\n",
    "            microrobot_type = config[\"names\"][0]  # e.g., \"cylinder\"\n",
    "            suffix = f\"_{max_images}\" if max_images is not None else \"\"\n",
    "            amat_filename = f\"USMicroMagSet_processed/ultrasound_{microrobot_type}_{mode}{suffix}.amat\"\n",
    "            np.savetxt(amat_filename, data_matrix, fmt=\"%.6f\")\n",
    "            print(f\"Saved {amat_filename} with shape {data_matrix.shape}\")\n",
    "        else:\n",
    "            print(f\"No images found for split {mode} in {microrobot_folder}.\")\n",
    "\n",
    "# Example usage (uncomment and set your folder path):\n",
    "preprocess_ultrasound_data(\"UsMicroMagSet-main/flagella\")"
   ]
  }
 ],
 "metadata": {
  "kernelspec": {
   "display_name": "3.12.8",
   "language": "python",
   "name": "python3"
  },
  "language_info": {
   "codemirror_mode": {
    "name": "ipython",
    "version": 3
   },
   "file_extension": ".py",
   "mimetype": "text/x-python",
   "name": "python",
   "nbconvert_exporter": "python",
   "pygments_lexer": "ipython3",
   "version": "3.12.8"
  }
 },
 "nbformat": 4,
 "nbformat_minor": 2
}
